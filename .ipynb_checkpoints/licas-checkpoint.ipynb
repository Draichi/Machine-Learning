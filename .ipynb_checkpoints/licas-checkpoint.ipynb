{
 "cells": [
  {
   "cell_type": "code",
   "execution_count": null,
   "metadata": {},
   "outputs": [],
   "source": [
    "#pip install pandas-datareader-gdax pytz\n",
    "\n",
    "import pytz\n",
    "from datetime import datetime\n",
    "from pandas_datareader_gdax import get_data_gdax\n",
    "\n",
    "df = get_data_gdax(\n",
    "    'BTC-USD',\n",
    "    granularity=5*60,\n",
    "    start=datetime(2016, 6, 1, 7, 0, 0, tzinfo=pytz.timezone('UTC')),\n",
    "    end=datetime(2018, 9, 1, 6, 59, 59, tzinfo=pytz.timezone('UTC'))\n",
    ")\n",
    "\n",
    "print('oi')\n",
    "print(df)"
   ]
  }
 ],
 "metadata": {
  "kernelspec": {
   "display_name": "Python [conda env:cryptocurrency-analysis]",
   "language": "python",
   "name": "conda-env-cryptocurrency-analysis-py"
  },
  "language_info": {
   "codemirror_mode": {
    "name": "ipython",
    "version": 3
   },
   "file_extension": ".py",
   "mimetype": "text/x-python",
   "name": "python",
   "nbconvert_exporter": "python",
   "pygments_lexer": "ipython3",
   "version": "3.6.5"
  }
 },
 "nbformat": 4,
 "nbformat_minor": 2
}
